{
 "cells": [
  {
   "cell_type": "markdown",
   "metadata": {},
   "source": [
    "# Design an application related to public health (Cleaning Part)\n",
    "\n",
    "The \"Public Health France\" agency has launched a call for projects to find innovative ideas for food-related applications. You want to participate and propose an application idea.\n",
    "\n",
    "The Open Food Fact dataset is available on the official website. The variables are defined at this address.\n",
    "\n",
    "The dataset has as datapoint each product (1443749 products) and for each, we have 181 columns which are separated in four sections :\n",
    "\n",
    "- General information on the product datasheet: name, date of modification, etc.\n",
    "- A set of tags: product category, location, origin, etc.\n",
    "- The ingredients that make up the products and their possible additives.\n",
    "- Nutritional information: quantity in grams of a nutrient per 100 grams of the product.\n",
    "- The goal of the project is to understand this dataset, to draw some insights and finally to train a model able to predict the nutriscore for each product in the way of the Yuka application.\n",
    "\n",
    "How is the nutriscore awarded?\n",
    "\n",
    "The score takes into account for 100 grams of product, the content :\n",
    "\n",
    "- Nutrients and foods to be promoted (fibers, proteins, fruits and vegetables),\n",
    "- Nutrients to be limited (energy, saturated fatty acids, sugars, salt).\n",
    "- After calculation, the score obtained by a product is used to assign it a letter (A to D) and a color.\n"
   ]
  },
  {
   "cell_type": "code",
   "execution_count": 1,
   "metadata": {},
   "outputs": [],
   "source": [
    "import numpy as np\n",
    "import pandas as pd\n",
    "import matplotlib.pyplot as plt\n",
    "import seaborn as sns"
   ]
  },
  {
   "cell_type": "markdown",
   "metadata": {},
   "source": [
    "## 1. Data Import"
   ]
  },
  {
   "cell_type": "code",
   "execution_count": 2,
   "metadata": {},
   "outputs": [],
   "source": [
    "df = pd.read_csv('en.openfoodfacts.org.products.csv', sep='\\t', low_memory=False)"
   ]
  },
  {
   "cell_type": "markdown",
   "metadata": {},
   "source": [
    "## 2. Data Description\n",
    "##### Data Header"
   ]
  },
  {
   "cell_type": "code",
   "execution_count": 3,
   "metadata": {},
   "outputs": [
    {
     "data": {
      "text/html": [
       "<div>\n",
       "<style scoped>\n",
       "    .dataframe tbody tr th:only-of-type {\n",
       "        vertical-align: middle;\n",
       "    }\n",
       "\n",
       "    .dataframe tbody tr th {\n",
       "        vertical-align: top;\n",
       "    }\n",
       "\n",
       "    .dataframe thead th {\n",
       "        text-align: right;\n",
       "    }\n",
       "</style>\n",
       "<table border=\"1\" class=\"dataframe\">\n",
       "  <thead>\n",
       "    <tr style=\"text-align: right;\">\n",
       "      <th></th>\n",
       "      <th>code</th>\n",
       "      <th>url</th>\n",
       "      <th>creator</th>\n",
       "      <th>created_t</th>\n",
       "      <th>created_datetime</th>\n",
       "      <th>last_modified_t</th>\n",
       "      <th>last_modified_datetime</th>\n",
       "      <th>product_name</th>\n",
       "      <th>generic_name</th>\n",
       "      <th>quantity</th>\n",
       "      <th>...</th>\n",
       "      <th>carbon-footprint-from-meat-or-fish_100g</th>\n",
       "      <th>nutrition-score-fr_100g</th>\n",
       "      <th>nutrition-score-uk_100g</th>\n",
       "      <th>glycemic-index_100g</th>\n",
       "      <th>water-hardness_100g</th>\n",
       "      <th>choline_100g</th>\n",
       "      <th>phylloquinone_100g</th>\n",
       "      <th>beta-glucan_100g</th>\n",
       "      <th>inositol_100g</th>\n",
       "      <th>carnitine_100g</th>\n",
       "    </tr>\n",
       "  </thead>\n",
       "  <tbody>\n",
       "    <tr>\n",
       "      <th>0</th>\n",
       "      <td>0000000000017</td>\n",
       "      <td>http://world-en.openfoodfacts.org/product/0000...</td>\n",
       "      <td>kiliweb</td>\n",
       "      <td>1529059080</td>\n",
       "      <td>2018-06-15T10:38:00Z</td>\n",
       "      <td>1561463718</td>\n",
       "      <td>2019-06-25T11:55:18Z</td>\n",
       "      <td>Vitória crackers</td>\n",
       "      <td>NaN</td>\n",
       "      <td>NaN</td>\n",
       "      <td>...</td>\n",
       "      <td>NaN</td>\n",
       "      <td>NaN</td>\n",
       "      <td>NaN</td>\n",
       "      <td>NaN</td>\n",
       "      <td>NaN</td>\n",
       "      <td>NaN</td>\n",
       "      <td>NaN</td>\n",
       "      <td>NaN</td>\n",
       "      <td>NaN</td>\n",
       "      <td>NaN</td>\n",
       "    </tr>\n",
       "    <tr>\n",
       "      <th>1</th>\n",
       "      <td>0000000000031</td>\n",
       "      <td>http://world-en.openfoodfacts.org/product/0000...</td>\n",
       "      <td>isagoofy</td>\n",
       "      <td>1539464774</td>\n",
       "      <td>2018-10-13T21:06:14Z</td>\n",
       "      <td>1539464817</td>\n",
       "      <td>2018-10-13T21:06:57Z</td>\n",
       "      <td>Cacao</td>\n",
       "      <td>NaN</td>\n",
       "      <td>130 g</td>\n",
       "      <td>...</td>\n",
       "      <td>NaN</td>\n",
       "      <td>NaN</td>\n",
       "      <td>NaN</td>\n",
       "      <td>NaN</td>\n",
       "      <td>NaN</td>\n",
       "      <td>NaN</td>\n",
       "      <td>NaN</td>\n",
       "      <td>NaN</td>\n",
       "      <td>NaN</td>\n",
       "      <td>NaN</td>\n",
       "    </tr>\n",
       "    <tr>\n",
       "      <th>2</th>\n",
       "      <td>000000000003327986</td>\n",
       "      <td>http://world-en.openfoodfacts.org/product/0000...</td>\n",
       "      <td>kiliweb</td>\n",
       "      <td>1574175736</td>\n",
       "      <td>2019-11-19T15:02:16Z</td>\n",
       "      <td>1574175737</td>\n",
       "      <td>2019-11-19T15:02:17Z</td>\n",
       "      <td>Filetes de pollo empanado</td>\n",
       "      <td>NaN</td>\n",
       "      <td>NaN</td>\n",
       "      <td>...</td>\n",
       "      <td>NaN</td>\n",
       "      <td>NaN</td>\n",
       "      <td>NaN</td>\n",
       "      <td>NaN</td>\n",
       "      <td>NaN</td>\n",
       "      <td>NaN</td>\n",
       "      <td>NaN</td>\n",
       "      <td>NaN</td>\n",
       "      <td>NaN</td>\n",
       "      <td>NaN</td>\n",
       "    </tr>\n",
       "    <tr>\n",
       "      <th>3</th>\n",
       "      <td>0000000000100</td>\n",
       "      <td>http://world-en.openfoodfacts.org/product/0000...</td>\n",
       "      <td>del51</td>\n",
       "      <td>1444572561</td>\n",
       "      <td>2015-10-11T14:09:21Z</td>\n",
       "      <td>1444659212</td>\n",
       "      <td>2015-10-12T14:13:32Z</td>\n",
       "      <td>moutarde au moût de raisin</td>\n",
       "      <td>NaN</td>\n",
       "      <td>100g</td>\n",
       "      <td>...</td>\n",
       "      <td>NaN</td>\n",
       "      <td>18.0</td>\n",
       "      <td>NaN</td>\n",
       "      <td>NaN</td>\n",
       "      <td>NaN</td>\n",
       "      <td>NaN</td>\n",
       "      <td>NaN</td>\n",
       "      <td>NaN</td>\n",
       "      <td>NaN</td>\n",
       "      <td>NaN</td>\n",
       "    </tr>\n",
       "    <tr>\n",
       "      <th>4</th>\n",
       "      <td>00000000001111111111</td>\n",
       "      <td>http://world-en.openfoodfacts.org/product/0000...</td>\n",
       "      <td>openfoodfacts-contributors</td>\n",
       "      <td>1560020173</td>\n",
       "      <td>2019-06-08T18:56:13Z</td>\n",
       "      <td>1560020173</td>\n",
       "      <td>2019-06-08T18:56:13Z</td>\n",
       "      <td>Sfiudwx</td>\n",
       "      <td>NaN</td>\n",
       "      <td>dgesc</td>\n",
       "      <td>...</td>\n",
       "      <td>NaN</td>\n",
       "      <td>NaN</td>\n",
       "      <td>NaN</td>\n",
       "      <td>NaN</td>\n",
       "      <td>NaN</td>\n",
       "      <td>NaN</td>\n",
       "      <td>NaN</td>\n",
       "      <td>NaN</td>\n",
       "      <td>NaN</td>\n",
       "      <td>NaN</td>\n",
       "    </tr>\n",
       "  </tbody>\n",
       "</table>\n",
       "<p>5 rows × 181 columns</p>\n",
       "</div>"
      ],
      "text/plain": [
       "                   code                                                url  \\\n",
       "0         0000000000017  http://world-en.openfoodfacts.org/product/0000...   \n",
       "1         0000000000031  http://world-en.openfoodfacts.org/product/0000...   \n",
       "2    000000000003327986  http://world-en.openfoodfacts.org/product/0000...   \n",
       "3         0000000000100  http://world-en.openfoodfacts.org/product/0000...   \n",
       "4  00000000001111111111  http://world-en.openfoodfacts.org/product/0000...   \n",
       "\n",
       "                      creator   created_t      created_datetime  \\\n",
       "0                     kiliweb  1529059080  2018-06-15T10:38:00Z   \n",
       "1                    isagoofy  1539464774  2018-10-13T21:06:14Z   \n",
       "2                     kiliweb  1574175736  2019-11-19T15:02:16Z   \n",
       "3                       del51  1444572561  2015-10-11T14:09:21Z   \n",
       "4  openfoodfacts-contributors  1560020173  2019-06-08T18:56:13Z   \n",
       "\n",
       "   last_modified_t last_modified_datetime                  product_name  \\\n",
       "0       1561463718   2019-06-25T11:55:18Z              Vitória crackers   \n",
       "1       1539464817   2018-10-13T21:06:57Z                         Cacao   \n",
       "2       1574175737   2019-11-19T15:02:17Z     Filetes de pollo empanado   \n",
       "3       1444659212   2015-10-12T14:13:32Z   moutarde au moût de raisin    \n",
       "4       1560020173   2019-06-08T18:56:13Z                       Sfiudwx   \n",
       "\n",
       "  generic_name quantity  ... carbon-footprint-from-meat-or-fish_100g  \\\n",
       "0          NaN      NaN  ...                                     NaN   \n",
       "1          NaN    130 g  ...                                     NaN   \n",
       "2          NaN      NaN  ...                                     NaN   \n",
       "3          NaN     100g  ...                                     NaN   \n",
       "4          NaN    dgesc  ...                                     NaN   \n",
       "\n",
       "  nutrition-score-fr_100g nutrition-score-uk_100g glycemic-index_100g  \\\n",
       "0                     NaN                     NaN                 NaN   \n",
       "1                     NaN                     NaN                 NaN   \n",
       "2                     NaN                     NaN                 NaN   \n",
       "3                    18.0                     NaN                 NaN   \n",
       "4                     NaN                     NaN                 NaN   \n",
       "\n",
       "  water-hardness_100g choline_100g phylloquinone_100g beta-glucan_100g  \\\n",
       "0                 NaN          NaN                NaN              NaN   \n",
       "1                 NaN          NaN                NaN              NaN   \n",
       "2                 NaN          NaN                NaN              NaN   \n",
       "3                 NaN          NaN                NaN              NaN   \n",
       "4                 NaN          NaN                NaN              NaN   \n",
       "\n",
       "  inositol_100g carnitine_100g  \n",
       "0           NaN            NaN  \n",
       "1           NaN            NaN  \n",
       "2           NaN            NaN  \n",
       "3           NaN            NaN  \n",
       "4           NaN            NaN  \n",
       "\n",
       "[5 rows x 181 columns]"
      ]
     },
     "execution_count": 3,
     "metadata": {},
     "output_type": "execute_result"
    }
   ],
   "source": [
    "df.head(5)"
   ]
  },
  {
   "cell_type": "markdown",
   "metadata": {},
   "source": [
    "##### Data Information"
   ]
  },
  {
   "cell_type": "code",
   "execution_count": 4,
   "metadata": {
    "scrolled": false
   },
   "outputs": [
    {
     "name": "stdout",
     "output_type": "stream",
     "text": [
      "<class 'pandas.core.frame.DataFrame'>\n",
      "RangeIndex: 1443749 entries, 0 to 1443748\n",
      "Columns: 181 entries, code to carnitine_100g\n",
      "dtypes: float64(123), int64(2), object(56)\n",
      "memory usage: 1.9+ GB\n"
     ]
    }
   ],
   "source": [
    "df.info()"
   ]
  },
  {
   "cell_type": "markdown",
   "metadata": {},
   "source": [
    "Here we see a problem, 56 columns are identified as object type. Once the columns have been sorted, we need to convert them to a floating type or category to continue our analysis of the data.\n",
    "\n",
    "\n",
    "##### Show statistical analysis of our data set\n",
    "Let's show min, max, mean, std, and count of each column in the dataset."
   ]
  },
  {
   "cell_type": "code",
   "execution_count": 5,
   "metadata": {
    "scrolled": true
   },
   "outputs": [
    {
     "data": {
      "text/html": [
       "<div>\n",
       "<style scoped>\n",
       "    .dataframe tbody tr th:only-of-type {\n",
       "        vertical-align: middle;\n",
       "    }\n",
       "\n",
       "    .dataframe tbody tr th {\n",
       "        vertical-align: top;\n",
       "    }\n",
       "\n",
       "    .dataframe thead th {\n",
       "        text-align: right;\n",
       "    }\n",
       "</style>\n",
       "<table border=\"1\" class=\"dataframe\">\n",
       "  <thead>\n",
       "    <tr style=\"text-align: right;\">\n",
       "      <th></th>\n",
       "      <th>created_t</th>\n",
       "      <th>last_modified_t</th>\n",
       "      <th>cities</th>\n",
       "      <th>allergens_en</th>\n",
       "      <th>serving_quantity</th>\n",
       "      <th>no_nutriments</th>\n",
       "      <th>additives_n</th>\n",
       "      <th>additives</th>\n",
       "      <th>ingredients_from_palm_oil_n</th>\n",
       "      <th>ingredients_from_palm_oil</th>\n",
       "      <th>...</th>\n",
       "      <th>carbon-footprint-from-meat-or-fish_100g</th>\n",
       "      <th>nutrition-score-fr_100g</th>\n",
       "      <th>nutrition-score-uk_100g</th>\n",
       "      <th>glycemic-index_100g</th>\n",
       "      <th>water-hardness_100g</th>\n",
       "      <th>choline_100g</th>\n",
       "      <th>phylloquinone_100g</th>\n",
       "      <th>beta-glucan_100g</th>\n",
       "      <th>inositol_100g</th>\n",
       "      <th>carnitine_100g</th>\n",
       "    </tr>\n",
       "  </thead>\n",
       "  <tbody>\n",
       "    <tr>\n",
       "      <th>count</th>\n",
       "      <td>1.443749e+06</td>\n",
       "      <td>1.443749e+06</td>\n",
       "      <td>0.0</td>\n",
       "      <td>0.0</td>\n",
       "      <td>4.407790e+05</td>\n",
       "      <td>0.0</td>\n",
       "      <td>640108.000000</td>\n",
       "      <td>0.0</td>\n",
       "      <td>640108.000000</td>\n",
       "      <td>0.0</td>\n",
       "      <td>...</td>\n",
       "      <td>10588.000000</td>\n",
       "      <td>582895.000000</td>\n",
       "      <td>28.000000</td>\n",
       "      <td>3.000000</td>\n",
       "      <td>0.0</td>\n",
       "      <td>38.000000</td>\n",
       "      <td>1711.000000</td>\n",
       "      <td>24.000000</td>\n",
       "      <td>44.000000</td>\n",
       "      <td>20.000000</td>\n",
       "    </tr>\n",
       "    <tr>\n",
       "      <th>mean</th>\n",
       "      <td>1.538325e+09</td>\n",
       "      <td>1.572286e+09</td>\n",
       "      <td>NaN</td>\n",
       "      <td>NaN</td>\n",
       "      <td>2.520790e+16</td>\n",
       "      <td>NaN</td>\n",
       "      <td>2.010467</td>\n",
       "      <td>NaN</td>\n",
       "      <td>0.020811</td>\n",
       "      <td>NaN</td>\n",
       "      <td>...</td>\n",
       "      <td>626.296455</td>\n",
       "      <td>9.173982</td>\n",
       "      <td>7.928571</td>\n",
       "      <td>29.333333</td>\n",
       "      <td>NaN</td>\n",
       "      <td>0.068208</td>\n",
       "      <td>0.068960</td>\n",
       "      <td>3.719583</td>\n",
       "      <td>0.025891</td>\n",
       "      <td>0.038885</td>\n",
       "    </tr>\n",
       "    <tr>\n",
       "      <th>std</th>\n",
       "      <td>4.592743e+07</td>\n",
       "      <td>2.594465e+07</td>\n",
       "      <td>NaN</td>\n",
       "      <td>NaN</td>\n",
       "      <td>1.673582e+19</td>\n",
       "      <td>NaN</td>\n",
       "      <td>2.846657</td>\n",
       "      <td>NaN</td>\n",
       "      <td>0.144587</td>\n",
       "      <td>NaN</td>\n",
       "      <td>...</td>\n",
       "      <td>6433.417497</td>\n",
       "      <td>8.914263</td>\n",
       "      <td>9.059182</td>\n",
       "      <td>15.011107</td>\n",
       "      <td>NaN</td>\n",
       "      <td>0.036215</td>\n",
       "      <td>1.827310</td>\n",
       "      <td>1.530099</td>\n",
       "      <td>0.026873</td>\n",
       "      <td>0.125679</td>\n",
       "    </tr>\n",
       "    <tr>\n",
       "      <th>min</th>\n",
       "      <td>1.328021e+09</td>\n",
       "      <td>1.333873e+09</td>\n",
       "      <td>NaN</td>\n",
       "      <td>NaN</td>\n",
       "      <td>0.000000e+00</td>\n",
       "      <td>NaN</td>\n",
       "      <td>0.000000</td>\n",
       "      <td>NaN</td>\n",
       "      <td>0.000000</td>\n",
       "      <td>NaN</td>\n",
       "      <td>...</td>\n",
       "      <td>0.049000</td>\n",
       "      <td>-15.000000</td>\n",
       "      <td>-6.000000</td>\n",
       "      <td>14.000000</td>\n",
       "      <td>NaN</td>\n",
       "      <td>0.008000</td>\n",
       "      <td>0.000000</td>\n",
       "      <td>0.400000</td>\n",
       "      <td>0.001350</td>\n",
       "      <td>0.004000</td>\n",
       "    </tr>\n",
       "    <tr>\n",
       "      <th>25%</th>\n",
       "      <td>1.507655e+09</td>\n",
       "      <td>1.563642e+09</td>\n",
       "      <td>NaN</td>\n",
       "      <td>NaN</td>\n",
       "      <td>2.800000e+01</td>\n",
       "      <td>NaN</td>\n",
       "      <td>0.000000</td>\n",
       "      <td>NaN</td>\n",
       "      <td>0.000000</td>\n",
       "      <td>NaN</td>\n",
       "      <td>...</td>\n",
       "      <td>111.000000</td>\n",
       "      <td>1.000000</td>\n",
       "      <td>0.000000</td>\n",
       "      <td>22.000000</td>\n",
       "      <td>NaN</td>\n",
       "      <td>0.053000</td>\n",
       "      <td>0.000008</td>\n",
       "      <td>3.325000</td>\n",
       "      <td>0.009225</td>\n",
       "      <td>0.007000</td>\n",
       "    </tr>\n",
       "    <tr>\n",
       "      <th>50%</th>\n",
       "      <td>1.546705e+09</td>\n",
       "      <td>1.582739e+09</td>\n",
       "      <td>NaN</td>\n",
       "      <td>NaN</td>\n",
       "      <td>5.000000e+01</td>\n",
       "      <td>NaN</td>\n",
       "      <td>1.000000</td>\n",
       "      <td>NaN</td>\n",
       "      <td>0.000000</td>\n",
       "      <td>NaN</td>\n",
       "      <td>...</td>\n",
       "      <td>329.360000</td>\n",
       "      <td>10.000000</td>\n",
       "      <td>5.500000</td>\n",
       "      <td>30.000000</td>\n",
       "      <td>NaN</td>\n",
       "      <td>0.069000</td>\n",
       "      <td>0.000023</td>\n",
       "      <td>3.950000</td>\n",
       "      <td>0.021000</td>\n",
       "      <td>0.008500</td>\n",
       "    </tr>\n",
       "    <tr>\n",
       "      <th>75%</th>\n",
       "      <td>1.577191e+09</td>\n",
       "      <td>1.587660e+09</td>\n",
       "      <td>NaN</td>\n",
       "      <td>NaN</td>\n",
       "      <td>1.130000e+02</td>\n",
       "      <td>NaN</td>\n",
       "      <td>3.000000</td>\n",
       "      <td>NaN</td>\n",
       "      <td>0.000000</td>\n",
       "      <td>NaN</td>\n",
       "      <td>...</td>\n",
       "      <td>614.200000</td>\n",
       "      <td>16.000000</td>\n",
       "      <td>17.000000</td>\n",
       "      <td>37.000000</td>\n",
       "      <td>NaN</td>\n",
       "      <td>0.089000</td>\n",
       "      <td>0.000096</td>\n",
       "      <td>4.450000</td>\n",
       "      <td>0.027700</td>\n",
       "      <td>0.011250</td>\n",
       "    </tr>\n",
       "    <tr>\n",
       "      <th>max</th>\n",
       "      <td>1.597972e+09</td>\n",
       "      <td>1.597972e+09</td>\n",
       "      <td>NaN</td>\n",
       "      <td>NaN</td>\n",
       "      <td>1.111111e+22</td>\n",
       "      <td>NaN</td>\n",
       "      <td>49.000000</td>\n",
       "      <td>NaN</td>\n",
       "      <td>3.000000</td>\n",
       "      <td>NaN</td>\n",
       "      <td>...</td>\n",
       "      <td>656298.600000</td>\n",
       "      <td>40.000000</td>\n",
       "      <td>25.000000</td>\n",
       "      <td>44.000000</td>\n",
       "      <td>NaN</td>\n",
       "      <td>0.150000</td>\n",
       "      <td>54.000000</td>\n",
       "      <td>7.300000</td>\n",
       "      <td>0.150000</td>\n",
       "      <td>0.572000</td>\n",
       "    </tr>\n",
       "  </tbody>\n",
       "</table>\n",
       "<p>8 rows × 125 columns</p>\n",
       "</div>"
      ],
      "text/plain": [
       "          created_t  last_modified_t  cities  allergens_en  serving_quantity  \\\n",
       "count  1.443749e+06     1.443749e+06     0.0           0.0      4.407790e+05   \n",
       "mean   1.538325e+09     1.572286e+09     NaN           NaN      2.520790e+16   \n",
       "std    4.592743e+07     2.594465e+07     NaN           NaN      1.673582e+19   \n",
       "min    1.328021e+09     1.333873e+09     NaN           NaN      0.000000e+00   \n",
       "25%    1.507655e+09     1.563642e+09     NaN           NaN      2.800000e+01   \n",
       "50%    1.546705e+09     1.582739e+09     NaN           NaN      5.000000e+01   \n",
       "75%    1.577191e+09     1.587660e+09     NaN           NaN      1.130000e+02   \n",
       "max    1.597972e+09     1.597972e+09     NaN           NaN      1.111111e+22   \n",
       "\n",
       "       no_nutriments    additives_n  additives  ingredients_from_palm_oil_n  \\\n",
       "count            0.0  640108.000000        0.0                640108.000000   \n",
       "mean             NaN       2.010467        NaN                     0.020811   \n",
       "std              NaN       2.846657        NaN                     0.144587   \n",
       "min              NaN       0.000000        NaN                     0.000000   \n",
       "25%              NaN       0.000000        NaN                     0.000000   \n",
       "50%              NaN       1.000000        NaN                     0.000000   \n",
       "75%              NaN       3.000000        NaN                     0.000000   \n",
       "max              NaN      49.000000        NaN                     3.000000   \n",
       "\n",
       "       ingredients_from_palm_oil  ...  \\\n",
       "count                        0.0  ...   \n",
       "mean                         NaN  ...   \n",
       "std                          NaN  ...   \n",
       "min                          NaN  ...   \n",
       "25%                          NaN  ...   \n",
       "50%                          NaN  ...   \n",
       "75%                          NaN  ...   \n",
       "max                          NaN  ...   \n",
       "\n",
       "       carbon-footprint-from-meat-or-fish_100g  nutrition-score-fr_100g  \\\n",
       "count                             10588.000000            582895.000000   \n",
       "mean                                626.296455                 9.173982   \n",
       "std                                6433.417497                 8.914263   \n",
       "min                                   0.049000               -15.000000   \n",
       "25%                                 111.000000                 1.000000   \n",
       "50%                                 329.360000                10.000000   \n",
       "75%                                 614.200000                16.000000   \n",
       "max                              656298.600000                40.000000   \n",
       "\n",
       "       nutrition-score-uk_100g  glycemic-index_100g  water-hardness_100g  \\\n",
       "count                28.000000             3.000000                  0.0   \n",
       "mean                  7.928571            29.333333                  NaN   \n",
       "std                   9.059182            15.011107                  NaN   \n",
       "min                  -6.000000            14.000000                  NaN   \n",
       "25%                   0.000000            22.000000                  NaN   \n",
       "50%                   5.500000            30.000000                  NaN   \n",
       "75%                  17.000000            37.000000                  NaN   \n",
       "max                  25.000000            44.000000                  NaN   \n",
       "\n",
       "       choline_100g  phylloquinone_100g  beta-glucan_100g  inositol_100g  \\\n",
       "count     38.000000         1711.000000         24.000000      44.000000   \n",
       "mean       0.068208            0.068960          3.719583       0.025891   \n",
       "std        0.036215            1.827310          1.530099       0.026873   \n",
       "min        0.008000            0.000000          0.400000       0.001350   \n",
       "25%        0.053000            0.000008          3.325000       0.009225   \n",
       "50%        0.069000            0.000023          3.950000       0.021000   \n",
       "75%        0.089000            0.000096          4.450000       0.027700   \n",
       "max        0.150000           54.000000          7.300000       0.150000   \n",
       "\n",
       "       carnitine_100g  \n",
       "count       20.000000  \n",
       "mean         0.038885  \n",
       "std          0.125679  \n",
       "min          0.004000  \n",
       "25%          0.007000  \n",
       "50%          0.008500  \n",
       "75%          0.011250  \n",
       "max          0.572000  \n",
       "\n",
       "[8 rows x 125 columns]"
      ]
     },
     "execution_count": 5,
     "metadata": {},
     "output_type": "execute_result"
    }
   ],
   "source": [
    "df.describe()"
   ]
  },
  {
   "cell_type": "markdown",
   "metadata": {},
   "source": [
    "##### Show if there are missing datapoints"
   ]
  },
  {
   "cell_type": "code",
   "execution_count": 6,
   "metadata": {
    "scrolled": false
   },
   "outputs": [
    {
     "data": {
      "image/png": "[encoded data removed]",
      "text/plain": [
       "<Figure size 1440x720 with 2 Axes>"
      ]
     },
     "metadata": {
      "needs_background": "light"
     },
     "output_type": "display_data"
    },
    {
     "ename": "TypeError",
     "evalue": "heatmap() missing 1 required positional argument: 'data'",
     "output_type": "error",
     "traceback": [
      "\u001b[0;31m---------------------------------------------------------------------------\u001b[0m",
      "\u001b[0;31mTypeError\u001b[0m                                 Traceback (most recent call last)",
      "\u001b[0;32m<ipython-input-6-796c17d11385>\u001b[0m in \u001b[0;36m<module>\u001b[0;34m\u001b[0m\n\u001b[1;32m      3\u001b[0m \u001b[0mplt\u001b[0m\u001b[0;34m.\u001b[0m\u001b[0mshow\u001b[0m\u001b[0;34m(\u001b[0m\u001b[0;34m)\u001b[0m\u001b[0;34m\u001b[0m\u001b[0;34m\u001b[0m\u001b[0m\n\u001b[1;32m      4\u001b[0m \u001b[0;34m\u001b[0m\u001b[0m\n\u001b[0;32m----> 5\u001b[0;31m \u001b[0msns\u001b[0m\u001b[0;34m.\u001b[0m\u001b[0mheatmap\u001b[0m\u001b[0;34m(\u001b[0m\u001b[0;34m)\u001b[0m\u001b[0;34m\u001b[0m\u001b[0;34m\u001b[0m\u001b[0m\n\u001b[0m",
      "\u001b[0;31mTypeError\u001b[0m: heatmap() missing 1 required positional argument: 'data'"
     ]
    }
   ],
   "source": [
    "fig, ax = plt.subplots(figsize=(20,10))\n",
    "sns.heatmap(df.isnull(), ax=ax).set(title = 'Missing Data', xlabel = 'Columns', ylabel = 'Data Points')\n",
    "plt.show()\n",
    "\n",
    "sns.heatmap()"
   ]
  },
  {
   "cell_type": "code",
   "execution_count": 7,
   "metadata": {
    "scrolled": true
   },
   "outputs": [
    {
     "name": "stdout",
     "output_type": "stream",
     "text": [
      "code , 0.0\n",
      "url , 0.0\n",
      "creator , 0.0\n",
      "created_t , 0.0\n",
      "created_datetime , 0.0\n",
      "last_modified_t , 0.0\n",
      "last_modified_datetime , 0.0\n",
      "product_name , 4.54\n",
      "generic_name , 92.77\n",
      "quantity , 71.73\n",
      "packaging , 84.13000000000001\n",
      "packaging_tags , 84.13000000000001\n",
      "brands , 44.91\n",
      "brands_tags , 44.91\n",
      "categories , 48.5\n",
      "categories_tags , 48.5\n",
      "categories_en , 48.5\n",
      "origins , 95.67\n",
      "origins_tags , 95.67999999999999\n",
      "manufacturing_places , 93.13\n",
      "manufacturing_places_tags , 93.13\n",
      "labels , 76.64\n",
      "labels_tags , 76.64\n",
      "labels_en , 76.64\n",
      "emb_codes , 93.21000000000001\n",
      "emb_codes_tags , 93.21000000000001\n",
      "first_packaging_code_geo , 95.69\n",
      "cities , 100.0\n",
      "cities_tags , 95.35\n",
      "purchase_places , 90.41\n",
      "stores , 85.77\n",
      "countries , 0.16\n",
      "countries_tags , 0.16\n",
      "countries_en , 0.16\n",
      "ingredients_text , 55.66\n",
      "allergens , 88.33\n",
      "allergens_en , 100.0\n",
      "traces , 94.42\n",
      "traces_tags , 92.96\n",
      "traces_en , 92.96\n",
      "serving_size , 69.5\n",
      "serving_quantity , 69.47\n",
      "no_nutriments , 100.0\n",
      "additives_n , 55.66\n",
      "additives , 100.0\n",
      "additives_tags , 74.25\n",
      "additives_en , 74.25\n",
      "ingredients_from_palm_oil_n , 55.66\n",
      "ingredients_from_palm_oil , 100.0\n",
      "ingredients_from_palm_oil_tags , 99.09\n",
      "ingredients_that_may_be_from_palm_oil_n , 55.66\n",
      "ingredients_that_may_be_from_palm_oil , 100.0\n",
      "ingredients_that_may_be_from_palm_oil_tags , 97.38\n",
      "nutriscore_score , 59.63\n",
      "nutriscore_grade , 59.63\n",
      "nova_group , 61.480000000000004\n",
      "pnns_groups_1 , 1.0\n",
      "pnns_groups_2 , 0.04\n",
      "states , 0.0\n",
      "states_tags , 0.0\n",
      "states_en , 0.0\n",
      "brand_owner , 79.96\n",
      "main_category , 48.5\n",
      "main_category_en , 48.5\n",
      "image_url , 29.54\n",
      "image_small_url , 29.54\n",
      "image_ingredients_url , 56.69\n",
      "image_ingredients_small_url , 56.69\n",
      "image_nutrition_url , 59.37\n",
      "image_nutrition_small_url , 59.37\n",
      "energy-kj_100g , 92.72\n",
      "energy-kcal_100g , 24.18\n",
      "energy_100g , 19.39\n",
      "energy-from-fat_100g , 99.92999999999999\n",
      "fat_100g , 20.01\n",
      "saturated-fat_100g , 23.26\n",
      "-butyric-acid_100g , 100.0\n",
      "-caproic-acid_100g , 100.0\n",
      "-caprylic-acid_100g , 100.0\n",
      "-capric-acid_100g , 100.0\n",
      "-lauric-acid_100g , 100.0\n",
      "-myristic-acid_100g , 100.0\n",
      "-palmitic-acid_100g , 100.0\n",
      "-stearic-acid_100g , 100.0\n",
      "-arachidic-acid_100g , 100.0\n",
      "-behenic-acid_100g , 100.0\n",
      "-lignoceric-acid_100g , 100.0\n",
      "-cerotic-acid_100g , 100.0\n",
      "-montanic-acid_100g , 100.0\n",
      "-melissic-acid_100g , 100.0\n",
      "monounsaturated-fat_100g , 96.78\n",
      "polyunsaturated-fat_100g , 96.78\n",
      "omega-3-fat_100g , 99.88\n",
      "-alpha-linolenic-acid_100g , 99.97\n",
      "-eicosapentaenoic-acid_100g , 99.99\n",
      "-docosahexaenoic-acid_100g , 99.99\n",
      "omega-6-fat_100g , 99.97\n",
      "-linoleic-acid_100g , 99.99\n",
      "-arachidonic-acid_100g , 100.0\n",
      "-gamma-linolenic-acid_100g , 100.0\n",
      "-dihomo-gamma-linolenic-acid_100g , 100.0\n",
      "omega-9-fat_100g , 100.0\n",
      "-oleic-acid_100g , 100.0\n",
      "-elaidic-acid_100g , 100.0\n",
      "-gondoic-acid_100g , 100.0\n",
      "-mead-acid_100g , 100.0\n",
      "-erucic-acid_100g , 100.0\n",
      "-nervonic-acid_100g , 100.0\n",
      "trans-fat_100g , 81.72\n",
      "cholesterol_100g , 81.44\n",
      "carbohydrates_100g , 20.05\n",
      "sugars_100g , 21.51\n",
      "-sucrose_100g , 99.99\n",
      "-glucose_100g , 100.0\n",
      "-fructose_100g , 99.99\n",
      "-lactose_100g , 99.96000000000001\n",
      "-maltose_100g , 100.0\n",
      "-maltodextrins_100g , 100.0\n",
      "starch_100g , 99.97\n",
      "polyols_100g , 99.76\n",
      "fiber_100g , 69.12\n",
      "-soluble-fiber_100g , 99.75\n",
      "-insoluble-fiber_100g , 99.77000000000001\n",
      "proteins_100g , 19.93\n",
      "casein_100g , 100.0\n",
      "serum-proteins_100g , 100.0\n",
      "nucleotides_100g , 100.0\n",
      "salt_100g , 21.41\n",
      "sodium_100g , 21.41\n",
      "alcohol_100g , 98.88\n",
      "vitamin-a_100g , 85.33\n",
      "beta-carotene_100g , 99.99\n",
      "vitamin-d_100g , 99.37\n",
      "vitamin-e_100g , 99.79\n",
      "vitamin-k_100g , 99.92999999999999\n",
      "vitamin-c_100g , 84.81\n",
      "vitamin-b1_100g , 98.4\n",
      "vitamin-b2_100g , 98.46000000000001\n",
      "vitamin-pp_100g , 98.39\n",
      "vitamin-b6_100g , 98.92\n",
      "vitamin-b9_100g , 99.32\n",
      "folates_100g , 99.42\n",
      "vitamin-b12_100g , 99.16\n",
      "biotin_100g , 99.92999999999999\n",
      "pantothenic-acid_100g , 99.6\n",
      "silica_100g , 99.99\n",
      "bicarbonate_100g , 99.98\n",
      "potassium_100g , 93.67\n",
      "chloride_100g , 99.96000000000001\n",
      "calcium_100g , 81.39999999999999\n",
      "phosphorus_100g , 99.07000000000001\n",
      "iron_100g , 81.72\n",
      "magnesium_100g , 99.00999999999999\n",
      "zinc_100g , 99.31\n",
      "copper_100g , 99.71\n",
      "manganese_100g , 99.72999999999999\n",
      "fluoride_100g , 99.98\n",
      "selenium_100g , 99.83\n",
      "chromium_100g , 99.99\n",
      "molybdenum_100g , 99.98\n",
      "iodine_100g , 99.86\n",
      "caffeine_100g , 99.97\n",
      "taurine_100g , 99.99\n",
      "ph_100g , 99.99\n",
      "fruits-vegetables-nuts_100g , 99.42\n",
      "fruits-vegetables-nuts-dried_100g , 99.98\n",
      "fruits-vegetables-nuts-estimate_100g , 99.21\n",
      "collagen-meat-protein-ratio_100g , 99.98\n",
      "cocoa_100g , 99.62\n",
      "chlorophyl_100g , 100.0\n",
      "carbon-footprint_100g , 99.97\n",
      "carbon-footprint-from-meat-or-fish_100g , 99.27\n",
      "nutrition-score-fr_100g , 59.63\n",
      "nutrition-score-uk_100g , 100.0\n",
      "glycemic-index_100g , 100.0\n",
      "water-hardness_100g , 100.0\n",
      "choline_100g , 100.0\n",
      "phylloquinone_100g , 99.88\n",
      "beta-glucan_100g , 100.0\n",
      "inositol_100g , 100.0\n",
      "carnitine_100g , 100.0\n"
     ]
    }
   ],
   "source": [
    "#df.isnull().sum()/len(df)\n",
    "obj = df.isna().mean().round(4) * 100\n",
    "for key,value in obj.iteritems():\n",
    "    print(key,\",\",value)"
   ]
  },
  {
   "cell_type": "markdown",
   "metadata": {},
   "source": [
    "We can see above that we have a very large part of the features with between 80 and 100% missing data, these data will be difficult to use or to attribute, moreover we notice that the features concerned are macro-nutrients and elements whose composition is not or only slightly present on the back of the food packages and which are therefore not very well informed by the users of the database.\n",
    "\n",
    "We will therefore deal with these missing datapoints as below.\n",
    "\n"
   ]
  },
  {
   "cell_type": "markdown",
   "metadata": {},
   "source": [
    "## 3. Data Cleaning\n",
    "### 3.1 Missing Values\n",
    "##### Colums/Features\n",
    "\n",
    "Since our goal is to determine the nutriscore, which is based on the common macro-nutrients and additives present in the packages, I made the decision to restrict the dataset to features with more than 20% data and thus keep only the general macro-nutrients for the study."
   ]
  },
  {
   "cell_type": "code",
   "execution_count": 8,
   "metadata": {},
   "outputs": [],
   "source": [
    "df2 = df[df.columns[df.isnull().mean() < 0.8]]"
   ]
  },
  {
   "cell_type": "code",
   "execution_count": 9,
   "metadata": {
    "scrolled": false
   },
   "outputs": [
    {
     "name": "stdout",
     "output_type": "stream",
     "text": [
      "<class 'pandas.core.frame.DataFrame'>\n",
      "RangeIndex: 1443749 entries, 0 to 1443748\n",
      "Data columns (total 56 columns):\n",
      " #   Column                                   Non-Null Count    Dtype  \n",
      "---  ------                                   --------------    -----  \n",
      " 0   code                                     1443749 non-null  object \n",
      " 1   url                                      1443749 non-null  object \n",
      " 2   creator                                  1443745 non-null  object \n",
      " 3   created_t                                1443749 non-null  int64  \n",
      " 4   created_datetime                         1443749 non-null  object \n",
      " 5   last_modified_t                          1443749 non-null  int64  \n",
      " 6   last_modified_datetime                   1443749 non-null  object \n",
      " 7   product_name                             1378190 non-null  object \n",
      " 8   quantity                                 408204 non-null   object \n",
      " 9   brands                                   795370 non-null   object \n",
      " 10  brands_tags                              795317 non-null   object \n",
      " 11  categories                               743518 non-null   object \n",
      " 12  categories_tags                          743516 non-null   object \n",
      " 13  categories_en                            743516 non-null   object \n",
      " 14  labels                                   337305 non-null   object \n",
      " 15  labels_tags                              337328 non-null   object \n",
      " 16  labels_en                                337328 non-null   object \n",
      " 17  countries                                1441455 non-null  object \n",
      " 18  countries_tags                           1441453 non-null  object \n",
      " 19  countries_en                             1441453 non-null  object \n",
      " 20  ingredients_text                         640108 non-null   object \n",
      " 21  serving_size                             440298 non-null   object \n",
      " 22  serving_quantity                         440779 non-null   float64\n",
      " 23  additives_n                              640108 non-null   float64\n",
      " 24  additives_tags                           371718 non-null   object \n",
      " 25  additives_en                             371718 non-null   object \n",
      " 26  ingredients_from_palm_oil_n              640108 non-null   float64\n",
      " 27  ingredients_that_may_be_from_palm_oil_n  640108 non-null   float64\n",
      " 28  nutriscore_score                         582895 non-null   float64\n",
      " 29  nutriscore_grade                         582895 non-null   object \n",
      " 30  nova_group                               556104 non-null   float64\n",
      " 31  pnns_groups_1                            1429255 non-null  object \n",
      " 32  pnns_groups_2                            1443143 non-null  object \n",
      " 33  states                                   1443749 non-null  object \n",
      " 34  states_tags                              1443749 non-null  object \n",
      " 35  states_en                                1443749 non-null  object \n",
      " 36  brand_owner                              289283 non-null   object \n",
      " 37  main_category                            743516 non-null   object \n",
      " 38  main_category_en                         743516 non-null   object \n",
      " 39  image_url                                1017249 non-null  object \n",
      " 40  image_small_url                          1017249 non-null  object \n",
      " 41  image_ingredients_url                    625262 non-null   object \n",
      " 42  image_ingredients_small_url              625262 non-null   object \n",
      " 43  image_nutrition_url                      586652 non-null   object \n",
      " 44  image_nutrition_small_url                586652 non-null   object \n",
      " 45  energy-kcal_100g                         1094597 non-null  float64\n",
      " 46  energy_100g                              1163796 non-null  float64\n",
      " 47  fat_100g                                 1154801 non-null  float64\n",
      " 48  saturated-fat_100g                       1107973 non-null  float64\n",
      " 49  carbohydrates_100g                       1154252 non-null  float64\n",
      " 50  sugars_100g                              1133169 non-null  float64\n",
      " 51  fiber_100g                               445866 non-null   float64\n",
      " 52  proteins_100g                            1156050 non-null  float64\n",
      " 53  salt_100g                                1134624 non-null  float64\n",
      " 54  sodium_100g                              1134618 non-null  float64\n",
      " 55  nutrition-score-fr_100g                  582895 non-null   float64\n",
      "dtypes: float64(17), int64(2), object(37)\n",
      "memory usage: 616.8+ MB\n"
     ]
    }
   ],
   "source": [
    "df2.info()"
   ]
  },
  {
   "cell_type": "code",
   "execution_count": 10,
   "metadata": {
    "scrolled": true
   },
   "outputs": [
    {
     "name": "stdout",
     "output_type": "stream",
     "text": [
      "code , 0.0\n",
      "url , 0.0\n",
      "creator , 0.0\n",
      "created_t , 0.0\n",
      "created_datetime , 0.0\n",
      "last_modified_t , 0.0\n",
      "last_modified_datetime , 0.0\n",
      "product_name , 4.54\n",
      "quantity , 71.73\n",
      "brands , 44.91\n",
      "brands_tags , 44.91\n",
      "categories , 48.5\n",
      "categories_tags , 48.5\n",
      "categories_en , 48.5\n",
      "labels , 76.64\n",
      "labels_tags , 76.64\n",
      "labels_en , 76.64\n",
      "countries , 0.16\n",
      "countries_tags , 0.16\n",
      "countries_en , 0.16\n",
      "ingredients_text , 55.66\n",
      "serving_size , 69.5\n",
      "serving_quantity , 69.47\n",
      "additives_n , 55.66\n",
      "additives_tags , 74.25\n",
      "additives_en , 74.25\n",
      "ingredients_from_palm_oil_n , 55.66\n",
      "ingredients_that_may_be_from_palm_oil_n , 55.66\n",
      "nutriscore_score , 59.63\n",
      "nutriscore_grade , 59.63\n",
      "nova_group , 61.480000000000004\n",
      "pnns_groups_1 , 1.0\n",
      "pnns_groups_2 , 0.04\n",
      "states , 0.0\n",
      "states_tags , 0.0\n",
      "states_en , 0.0\n",
      "brand_owner , 79.96\n",
      "main_category , 48.5\n",
      "main_category_en , 48.5\n",
      "image_url , 29.54\n",
      "image_small_url , 29.54\n",
      "image_ingredients_url , 56.69\n",
      "image_ingredients_small_url , 56.69\n",
      "image_nutrition_url , 59.37\n",
      "image_nutrition_small_url , 59.37\n",
      "energy-kcal_100g , 24.18\n",
      "energy_100g , 19.39\n",
      "fat_100g , 20.01\n",
      "saturated-fat_100g , 23.26\n",
      "carbohydrates_100g , 20.05\n",
      "sugars_100g , 21.51\n",
      "fiber_100g , 69.12\n",
      "proteins_100g , 19.93\n",
      "salt_100g , 21.41\n",
      "sodium_100g , 21.41\n",
      "nutrition-score-fr_100g , 59.63\n"
     ]
    }
   ],
   "source": [
    "obj = df2.isna().mean().round(4) * 100\n",
    "for key,value in obj.iteritems():\n",
    "    print(key,\",\",value)"
   ]
  },
  {
   "cell_type": "markdown",
   "metadata": {},
   "source": [
    "Based on the missing data, the problem and the dataset, I decided to remove the following features:\n",
    "\n",
    "- URL\n",
    "- Creator; Creation time; etc\n",
    "- Duplicates (translation of another feature; tags; etc)\n",
    "\n",
    "The goal is to keep only the information related to the products (code, name, category), the nutri-score and the macro-nutrients."
   ]
  },
  {
   "cell_type": "code",
   "execution_count": 11,
   "metadata": {},
   "outputs": [],
   "source": [
    "df2 = df2[[\"code\", \"product_name\",\"main_category_en\",\"pnns_groups_1\", \"pnns_groups_2\", \"nutriscore_score\", \"nutriscore_grade\", \"energy-kcal_100g\",\"energy_100g\", \"fat_100g\", \"saturated-fat_100g\", \"carbohydrates_100g\", \"sugars_100g\", \"fiber_100g\", \"proteins_100g\", \"salt_100g\", \"sodium_100g\"]]\n"
   ]
  },
  {
   "cell_type": "code",
   "execution_count": 12,
   "metadata": {
    "scrolled": false
   },
   "outputs": [
    {
     "data": {
      "text/html": [
       "<div>\n",
       "<style scoped>\n",
       "    .dataframe tbody tr th:only-of-type {\n",
       "        vertical-align: middle;\n",
       "    }\n",
       "\n",
       "    .dataframe tbody tr th {\n",
       "        vertical-align: top;\n",
       "    }\n",
       "\n",
       "    .dataframe thead th {\n",
       "        text-align: right;\n",
       "    }\n",
       "</style>\n",
       "<table border=\"1\" class=\"dataframe\">\n",
       "  <thead>\n",
       "    <tr style=\"text-align: right;\">\n",
       "      <th></th>\n",
       "      <th>code</th>\n",
       "      <th>product_name</th>\n",
       "      <th>main_category_en</th>\n",
       "      <th>pnns_groups_1</th>\n",
       "      <th>pnns_groups_2</th>\n",
       "      <th>nutriscore_score</th>\n",
       "      <th>nutriscore_grade</th>\n",
       "      <th>energy-kcal_100g</th>\n",
       "      <th>energy_100g</th>\n",
       "      <th>fat_100g</th>\n",
       "      <th>saturated-fat_100g</th>\n",
       "      <th>carbohydrates_100g</th>\n",
       "      <th>sugars_100g</th>\n",
       "      <th>fiber_100g</th>\n",
       "      <th>proteins_100g</th>\n",
       "      <th>salt_100g</th>\n",
       "      <th>sodium_100g</th>\n",
       "    </tr>\n",
       "  </thead>\n",
       "  <tbody>\n",
       "    <tr>\n",
       "      <th>0</th>\n",
       "      <td>0000000000017</td>\n",
       "      <td>Vitória crackers</td>\n",
       "      <td>NaN</td>\n",
       "      <td>unknown</td>\n",
       "      <td>unknown</td>\n",
       "      <td>NaN</td>\n",
       "      <td>NaN</td>\n",
       "      <td>375.0</td>\n",
       "      <td>1569.0</td>\n",
       "      <td>7.0</td>\n",
       "      <td>3.08</td>\n",
       "      <td>70.1</td>\n",
       "      <td>15.0</td>\n",
       "      <td>NaN</td>\n",
       "      <td>7.8</td>\n",
       "      <td>1.4</td>\n",
       "      <td>0.56</td>\n",
       "    </tr>\n",
       "    <tr>\n",
       "      <th>1</th>\n",
       "      <td>0000000000031</td>\n",
       "      <td>Cacao</td>\n",
       "      <td>NaN</td>\n",
       "      <td>unknown</td>\n",
       "      <td>unknown</td>\n",
       "      <td>NaN</td>\n",
       "      <td>NaN</td>\n",
       "      <td>NaN</td>\n",
       "      <td>NaN</td>\n",
       "      <td>NaN</td>\n",
       "      <td>NaN</td>\n",
       "      <td>NaN</td>\n",
       "      <td>NaN</td>\n",
       "      <td>NaN</td>\n",
       "      <td>NaN</td>\n",
       "      <td>NaN</td>\n",
       "      <td>NaN</td>\n",
       "    </tr>\n",
       "    <tr>\n",
       "      <th>2</th>\n",
       "      <td>000000000003327986</td>\n",
       "      <td>Filetes de pollo empanado</td>\n",
       "      <td>NaN</td>\n",
       "      <td>unknown</td>\n",
       "      <td>unknown</td>\n",
       "      <td>NaN</td>\n",
       "      <td>NaN</td>\n",
       "      <td>NaN</td>\n",
       "      <td>NaN</td>\n",
       "      <td>NaN</td>\n",
       "      <td>NaN</td>\n",
       "      <td>NaN</td>\n",
       "      <td>NaN</td>\n",
       "      <td>NaN</td>\n",
       "      <td>NaN</td>\n",
       "      <td>NaN</td>\n",
       "      <td>NaN</td>\n",
       "    </tr>\n",
       "    <tr>\n",
       "      <th>3</th>\n",
       "      <td>0000000000100</td>\n",
       "      <td>moutarde au moût de raisin</td>\n",
       "      <td>Mustards</td>\n",
       "      <td>Fat and sauces</td>\n",
       "      <td>Dressings and sauces</td>\n",
       "      <td>18.0</td>\n",
       "      <td>d</td>\n",
       "      <td>NaN</td>\n",
       "      <td>936.0</td>\n",
       "      <td>8.2</td>\n",
       "      <td>2.20</td>\n",
       "      <td>29.0</td>\n",
       "      <td>22.0</td>\n",
       "      <td>0.0</td>\n",
       "      <td>5.1</td>\n",
       "      <td>4.6</td>\n",
       "      <td>1.84</td>\n",
       "    </tr>\n",
       "    <tr>\n",
       "      <th>4</th>\n",
       "      <td>00000000001111111111</td>\n",
       "      <td>Sfiudwx</td>\n",
       "      <td>fr:xsf</td>\n",
       "      <td>unknown</td>\n",
       "      <td>unknown</td>\n",
       "      <td>NaN</td>\n",
       "      <td>NaN</td>\n",
       "      <td>NaN</td>\n",
       "      <td>NaN</td>\n",
       "      <td>NaN</td>\n",
       "      <td>NaN</td>\n",
       "      <td>NaN</td>\n",
       "      <td>NaN</td>\n",
       "      <td>NaN</td>\n",
       "      <td>NaN</td>\n",
       "      <td>NaN</td>\n",
       "      <td>NaN</td>\n",
       "    </tr>\n",
       "  </tbody>\n",
       "</table>\n",
       "</div>"
      ],
      "text/plain": [
       "                   code                  product_name main_category_en  \\\n",
       "0         0000000000017              Vitória crackers              NaN   \n",
       "1         0000000000031                         Cacao              NaN   \n",
       "2    000000000003327986     Filetes de pollo empanado              NaN   \n",
       "3         0000000000100   moutarde au moût de raisin          Mustards   \n",
       "4  00000000001111111111                       Sfiudwx           fr:xsf   \n",
       "\n",
       "    pnns_groups_1         pnns_groups_2  nutriscore_score nutriscore_grade  \\\n",
       "0         unknown               unknown               NaN              NaN   \n",
       "1         unknown               unknown               NaN              NaN   \n",
       "2         unknown               unknown               NaN              NaN   \n",
       "3  Fat and sauces  Dressings and sauces              18.0                d   \n",
       "4         unknown               unknown               NaN              NaN   \n",
       "\n",
       "   energy-kcal_100g  energy_100g  fat_100g  saturated-fat_100g  \\\n",
       "0             375.0       1569.0       7.0                3.08   \n",
       "1               NaN          NaN       NaN                 NaN   \n",
       "2               NaN          NaN       NaN                 NaN   \n",
       "3               NaN        936.0       8.2                2.20   \n",
       "4               NaN          NaN       NaN                 NaN   \n",
       "\n",
       "   carbohydrates_100g  sugars_100g  fiber_100g  proteins_100g  salt_100g  \\\n",
       "0                70.1         15.0         NaN            7.8        1.4   \n",
       "1                 NaN          NaN         NaN            NaN        NaN   \n",
       "2                 NaN          NaN         NaN            NaN        NaN   \n",
       "3                29.0         22.0         0.0            5.1        4.6   \n",
       "4                 NaN          NaN         NaN            NaN        NaN   \n",
       "\n",
       "   sodium_100g  \n",
       "0         0.56  \n",
       "1          NaN  \n",
       "2          NaN  \n",
       "3         1.84  \n",
       "4          NaN  "
      ]
     },
     "execution_count": 12,
     "metadata": {},
     "output_type": "execute_result"
    }
   ],
   "source": [
    "pd.set_option('display.max_columns', None)\n",
    "df2.head(5)"
   ]
  },
  {
   "cell_type": "markdown",
   "metadata": {},
   "source": [
    "##### Individus/Observations"
   ]
  },
  {
   "cell_type": "markdown",
   "metadata": {},
   "source": [
    "The objective here is to remove rows with missing data."
   ]
  },
  {
   "cell_type": "code",
   "execution_count": 13,
   "metadata": {},
   "outputs": [],
   "source": [
    "df2 = df2.dropna(subset=['product_name', 'code'])"
   ]
  },
  {
   "cell_type": "markdown",
   "metadata": {},
   "source": [
    "I delete the rows that do not have a product names or codes."
   ]
  },
  {
   "cell_type": "code",
   "execution_count": 14,
   "metadata": {},
   "outputs": [],
   "source": [
    "df_100g = df2[[\"energy-kcal_100g\",\"energy_100g\", \"fat_100g\", \"saturated-fat_100g\", \"carbohydrates_100g\", \"sugars_100g\", \"fiber_100g\", \"proteins_100g\", \"salt_100g\", \"sodium_100g\"]]\n",
    "df_macro = df_100g.copy()"
   ]
  },
  {
   "cell_type": "code",
   "execution_count": 15,
   "metadata": {
    "scrolled": false
   },
   "outputs": [
    {
     "name": "stdout",
     "output_type": "stream",
     "text": [
      "created missing indicator for: energy-kcal_100g\n",
      "created missing indicator for: energy_100g\n",
      "created missing indicator for: fat_100g\n",
      "created missing indicator for: saturated-fat_100g\n",
      "created missing indicator for: carbohydrates_100g\n",
      "created missing indicator for: sugars_100g\n",
      "created missing indicator for: fiber_100g\n",
      "created missing indicator for: proteins_100g\n",
      "created missing indicator for: salt_100g\n",
      "created missing indicator for: sodium_100g\n"
     ]
    },
    {
     "name": "stderr",
     "output_type": "stream",
     "text": [
      "/Users/mariusbiteau/opt/anaconda3/lib/python3.7/site-packages/ipykernel_launcher.py:8: SettingWithCopyWarning: \n",
      "A value is trying to be set on a copy of a slice from a DataFrame.\n",
      "Try using .loc[row_indexer,col_indexer] = value instead\n",
      "\n",
      "See the caveats in the documentation: https://pandas.pydata.org/pandas-docs/stable/user_guide/indexing.html#returning-a-view-versus-a-copy\n",
      "  \n"
     ]
    },
    {
     "data": {
      "text/plain": [
       "<matplotlib.axes._subplots.AxesSubplot at 0x7fe6a6f9a350>"
      ]
     },
     "execution_count": 15,
     "metadata": {},
     "output_type": "execute_result"
    },
    {
     "data": {
      "image/png": "[encoded data removed]",
      "text/plain": [
       "<Figure size 432x288 with 1 Axes>"
      ]
     },
     "metadata": {
      "needs_background": "light"
     },
     "output_type": "display_data"
    }
   ],
   "source": [
    "# first create missing indicator for features with missing data\n",
    "for col in df_100g.columns:\n",
    "    missing = df_100g[col].isnull()\n",
    "    num_missing = np.sum(missing)\n",
    "    \n",
    "    if num_missing > 0:  \n",
    "        print('created missing indicator for: {}'.format(col))\n",
    "        df_100g['{}_ismissing'.format(col)] = missing\n",
    "\n",
    "# then based on the indicator, plot the histogram of missing values\n",
    "ismissing_cols = [col for col in df_100g.columns if 'ismissing' in col]\n",
    "df_100g['num_missing'] = df_100g[ismissing_cols].sum(axis=1)\n",
    "\n",
    "#fig, ax = plt.subplots(figsize=(20,10))\n",
    "df_100g['num_missing'].value_counts().reset_index().sort_values(by='index').plot.bar(x='index', y='num_missing')\n"
   ]
  },
  {
   "cell_type": "code",
   "execution_count": 16,
   "metadata": {},
   "outputs": [],
   "source": [
    "ind_missing = df_100g[df_100g['num_missing'] > 2].index\n",
    "df_macro = df_macro.drop(ind_missing, axis=0)\n",
    "df2 = df2.drop(ind_missing, axis=0)"
   ]
  },
  {
   "cell_type": "markdown",
   "metadata": {},
   "source": [
    "I then delete the rows with more than two missing features as it will be more complicated to interpolate them in the futur."
   ]
  },
  {
   "cell_type": "code",
   "execution_count": 17,
   "metadata": {},
   "outputs": [
    {
     "data": {
      "text/html": [
       "<div>\n",
       "<style scoped>\n",
       "    .dataframe tbody tr th:only-of-type {\n",
       "        vertical-align: middle;\n",
       "    }\n",
       "\n",
       "    .dataframe tbody tr th {\n",
       "        vertical-align: top;\n",
       "    }\n",
       "\n",
       "    .dataframe thead th {\n",
       "        text-align: right;\n",
       "    }\n",
       "</style>\n",
       "<table border=\"1\" class=\"dataframe\">\n",
       "  <thead>\n",
       "    <tr style=\"text-align: right;\">\n",
       "      <th></th>\n",
       "      <th>energy-kcal_100g</th>\n",
       "      <th>energy_100g</th>\n",
       "      <th>fat_100g</th>\n",
       "      <th>saturated-fat_100g</th>\n",
       "      <th>carbohydrates_100g</th>\n",
       "      <th>sugars_100g</th>\n",
       "      <th>fiber_100g</th>\n",
       "      <th>proteins_100g</th>\n",
       "      <th>salt_100g</th>\n",
       "      <th>sodium_100g</th>\n",
       "    </tr>\n",
       "  </thead>\n",
       "  <tbody>\n",
       "    <tr>\n",
       "      <th>0</th>\n",
       "      <td>375.0</td>\n",
       "      <td>1569.0</td>\n",
       "      <td>7.0</td>\n",
       "      <td>3.08</td>\n",
       "      <td>70.1</td>\n",
       "      <td>15.0</td>\n",
       "      <td>NaN</td>\n",
       "      <td>7.8</td>\n",
       "      <td>1.40</td>\n",
       "      <td>0.560</td>\n",
       "    </tr>\n",
       "    <tr>\n",
       "      <th>3</th>\n",
       "      <td>NaN</td>\n",
       "      <td>936.0</td>\n",
       "      <td>8.2</td>\n",
       "      <td>2.20</td>\n",
       "      <td>29.0</td>\n",
       "      <td>22.0</td>\n",
       "      <td>0.0</td>\n",
       "      <td>5.1</td>\n",
       "      <td>4.60</td>\n",
       "      <td>1.840</td>\n",
       "    </tr>\n",
       "    <tr>\n",
       "      <th>5</th>\n",
       "      <td>21.0</td>\n",
       "      <td>88.0</td>\n",
       "      <td>0.0</td>\n",
       "      <td>0.00</td>\n",
       "      <td>4.8</td>\n",
       "      <td>0.4</td>\n",
       "      <td>NaN</td>\n",
       "      <td>0.2</td>\n",
       "      <td>2.04</td>\n",
       "      <td>0.816</td>\n",
       "    </tr>\n",
       "    <tr>\n",
       "      <th>6</th>\n",
       "      <td>60.0</td>\n",
       "      <td>251.0</td>\n",
       "      <td>3.0</td>\n",
       "      <td>1.00</td>\n",
       "      <td>10.0</td>\n",
       "      <td>3.0</td>\n",
       "      <td>NaN</td>\n",
       "      <td>2.0</td>\n",
       "      <td>1.15</td>\n",
       "      <td>0.460</td>\n",
       "    </tr>\n",
       "    <tr>\n",
       "      <th>13</th>\n",
       "      <td>32.0</td>\n",
       "      <td>134.0</td>\n",
       "      <td>0.3</td>\n",
       "      <td>0.10</td>\n",
       "      <td>5.3</td>\n",
       "      <td>3.9</td>\n",
       "      <td>NaN</td>\n",
       "      <td>0.9</td>\n",
       "      <td>0.42</td>\n",
       "      <td>0.168</td>\n",
       "    </tr>\n",
       "    <tr>\n",
       "      <th>...</th>\n",
       "      <td>...</td>\n",
       "      <td>...</td>\n",
       "      <td>...</td>\n",
       "      <td>...</td>\n",
       "      <td>...</td>\n",
       "      <td>...</td>\n",
       "      <td>...</td>\n",
       "      <td>...</td>\n",
       "      <td>...</td>\n",
       "      <td>...</td>\n",
       "    </tr>\n",
       "    <tr>\n",
       "      <th>1443741</th>\n",
       "      <td>333.0</td>\n",
       "      <td>1393.0</td>\n",
       "      <td>20.2</td>\n",
       "      <td>6.00</td>\n",
       "      <td>30.9</td>\n",
       "      <td>10.4</td>\n",
       "      <td>NaN</td>\n",
       "      <td>7.4</td>\n",
       "      <td>1.10</td>\n",
       "      <td>0.440</td>\n",
       "    </tr>\n",
       "    <tr>\n",
       "      <th>1443742</th>\n",
       "      <td>NaN</td>\n",
       "      <td>925.0</td>\n",
       "      <td>7.6</td>\n",
       "      <td>4.80</td>\n",
       "      <td>35.0</td>\n",
       "      <td>24.0</td>\n",
       "      <td>NaN</td>\n",
       "      <td>2.6</td>\n",
       "      <td>0.28</td>\n",
       "      <td>0.112</td>\n",
       "    </tr>\n",
       "    <tr>\n",
       "      <th>1443743</th>\n",
       "      <td>131.0</td>\n",
       "      <td>548.0</td>\n",
       "      <td>5.0</td>\n",
       "      <td>2.30</td>\n",
       "      <td>0.0</td>\n",
       "      <td>0.0</td>\n",
       "      <td>NaN</td>\n",
       "      <td>21.5</td>\n",
       "      <td>0.18</td>\n",
       "      <td>0.072</td>\n",
       "    </tr>\n",
       "    <tr>\n",
       "      <th>1443745</th>\n",
       "      <td>100.0</td>\n",
       "      <td>418.0</td>\n",
       "      <td>12.0</td>\n",
       "      <td>1.00</td>\n",
       "      <td>2.0</td>\n",
       "      <td>1.0</td>\n",
       "      <td>NaN</td>\n",
       "      <td>1.0</td>\n",
       "      <td>1.00</td>\n",
       "      <td>0.400</td>\n",
       "    </tr>\n",
       "    <tr>\n",
       "      <th>1443747</th>\n",
       "      <td>24.0</td>\n",
       "      <td>100.0</td>\n",
       "      <td>0.3</td>\n",
       "      <td>0.00</td>\n",
       "      <td>2.4</td>\n",
       "      <td>0.6</td>\n",
       "      <td>NaN</td>\n",
       "      <td>1.6</td>\n",
       "      <td>0.64</td>\n",
       "      <td>0.256</td>\n",
       "    </tr>\n",
       "  </tbody>\n",
       "</table>\n",
       "<p>1107218 rows × 10 columns</p>\n",
       "</div>"
      ],
      "text/plain": [
       "         energy-kcal_100g  energy_100g  fat_100g  saturated-fat_100g  \\\n",
       "0                   375.0       1569.0       7.0                3.08   \n",
       "3                     NaN        936.0       8.2                2.20   \n",
       "5                    21.0         88.0       0.0                0.00   \n",
       "6                    60.0        251.0       3.0                1.00   \n",
       "13                   32.0        134.0       0.3                0.10   \n",
       "...                   ...          ...       ...                 ...   \n",
       "1443741             333.0       1393.0      20.2                6.00   \n",
       "1443742               NaN        925.0       7.6                4.80   \n",
       "1443743             131.0        548.0       5.0                2.30   \n",
       "1443745             100.0        418.0      12.0                1.00   \n",
       "1443747              24.0        100.0       0.3                0.00   \n",
       "\n",
       "         carbohydrates_100g  sugars_100g  fiber_100g  proteins_100g  \\\n",
       "0                      70.1         15.0         NaN            7.8   \n",
       "3                      29.0         22.0         0.0            5.1   \n",
       "5                       4.8          0.4         NaN            0.2   \n",
       "6                      10.0          3.0         NaN            2.0   \n",
       "13                      5.3          3.9         NaN            0.9   \n",
       "...                     ...          ...         ...            ...   \n",
       "1443741                30.9         10.4         NaN            7.4   \n",
       "1443742                35.0         24.0         NaN            2.6   \n",
       "1443743                 0.0          0.0         NaN           21.5   \n",
       "1443745                 2.0          1.0         NaN            1.0   \n",
       "1443747                 2.4          0.6         NaN            1.6   \n",
       "\n",
       "         salt_100g  sodium_100g  \n",
       "0             1.40        0.560  \n",
       "3             4.60        1.840  \n",
       "5             2.04        0.816  \n",
       "6             1.15        0.460  \n",
       "13            0.42        0.168  \n",
       "...            ...          ...  \n",
       "1443741       1.10        0.440  \n",
       "1443742       0.28        0.112  \n",
       "1443743       0.18        0.072  \n",
       "1443745       1.00        0.400  \n",
       "1443747       0.64        0.256  \n",
       "\n",
       "[1107218 rows x 10 columns]"
      ]
     },
     "execution_count": 17,
     "metadata": {},
     "output_type": "execute_result"
    }
   ],
   "source": [
    "df_macro"
   ]
  },
  {
   "cell_type": "code",
   "execution_count": 18,
   "metadata": {},
   "outputs": [
    {
     "data": {
      "text/html": [
       "<div>\n",
       "<style scoped>\n",
       "    .dataframe tbody tr th:only-of-type {\n",
       "        vertical-align: middle;\n",
       "    }\n",
       "\n",
       "    .dataframe tbody tr th {\n",
       "        vertical-align: top;\n",
       "    }\n",
       "\n",
       "    .dataframe thead th {\n",
       "        text-align: right;\n",
       "    }\n",
       "</style>\n",
       "<table border=\"1\" class=\"dataframe\">\n",
       "  <thead>\n",
       "    <tr style=\"text-align: right;\">\n",
       "      <th></th>\n",
       "      <th>energy-kcal_100g</th>\n",
       "      <th>energy_100g</th>\n",
       "      <th>fat_100g</th>\n",
       "      <th>saturated-fat_100g</th>\n",
       "      <th>carbohydrates_100g</th>\n",
       "      <th>sugars_100g</th>\n",
       "      <th>fiber_100g</th>\n",
       "      <th>proteins_100g</th>\n",
       "      <th>salt_100g</th>\n",
       "      <th>sodium_100g</th>\n",
       "    </tr>\n",
       "  </thead>\n",
       "  <tbody>\n",
       "    <tr>\n",
       "      <th>count</th>\n",
       "      <td>1.043218e+06</td>\n",
       "      <td>1.106563e+06</td>\n",
       "      <td>1.104430e+06</td>\n",
       "      <td>1.073576e+06</td>\n",
       "      <td>1.104351e+06</td>\n",
       "      <td>1.097361e+06</td>\n",
       "      <td>441163.000000</td>\n",
       "      <td>1.106485e+06</td>\n",
       "      <td>1.105391e+06</td>\n",
       "      <td>1.105387e+06</td>\n",
       "    </tr>\n",
       "    <tr>\n",
       "      <th>mean</th>\n",
       "      <td>2.160168e+03</td>\n",
       "      <td>8.581562e+03</td>\n",
       "      <td>1.375179e+01</td>\n",
       "      <td>1.266794e+08</td>\n",
       "      <td>2.867567e+01</td>\n",
       "      <td>1.382134e+01</td>\n",
       "      <td>2.939507</td>\n",
       "      <td>8.589983e+00</td>\n",
       "      <td>1.897389e+00</td>\n",
       "      <td>7.590446e-01</td>\n",
       "    </tr>\n",
       "    <tr>\n",
       "      <th>std</th>\n",
       "      <td>1.918952e+06</td>\n",
       "      <td>7.795702e+06</td>\n",
       "      <td>1.760439e+01</td>\n",
       "      <td>1.312570e+11</td>\n",
       "      <td>2.867389e+01</td>\n",
       "      <td>2.003348e+01</td>\n",
       "      <td>6.128920</td>\n",
       "      <td>1.062895e+01</td>\n",
       "      <td>1.423754e+02</td>\n",
       "      <td>5.695089e+01</td>\n",
       "    </tr>\n",
       "    <tr>\n",
       "      <th>min</th>\n",
       "      <td>0.000000e+00</td>\n",
       "      <td>0.000000e+00</td>\n",
       "      <td>0.000000e+00</td>\n",
       "      <td>0.000000e+00</td>\n",
       "      <td>0.000000e+00</td>\n",
       "      <td>-1.000000e+00</td>\n",
       "      <td>-20.000000</td>\n",
       "      <td>-4.000000e-01</td>\n",
       "      <td>0.000000e+00</td>\n",
       "      <td>0.000000e+00</td>\n",
       "    </tr>\n",
       "    <tr>\n",
       "      <th>25%</th>\n",
       "      <td>1.080000e+02</td>\n",
       "      <td>4.480000e+02</td>\n",
       "      <td>8.000000e-01</td>\n",
       "      <td>1.000000e-01</td>\n",
       "      <td>3.600000e+00</td>\n",
       "      <td>7.000000e-01</td>\n",
       "      <td>0.000000</td>\n",
       "      <td>1.400000e+00</td>\n",
       "      <td>7.250000e-02</td>\n",
       "      <td>2.900000e-02</td>\n",
       "    </tr>\n",
       "    <tr>\n",
       "      <th>50%</th>\n",
       "      <td>2.690000e+02</td>\n",
       "      <td>1.117000e+03</td>\n",
       "      <td>7.142857e+00</td>\n",
       "      <td>2.000000e+00</td>\n",
       "      <td>1.600000e+01</td>\n",
       "      <td>3.900000e+00</td>\n",
       "      <td>1.500000</td>\n",
       "      <td>6.000000e+00</td>\n",
       "      <td>5.600000e-01</td>\n",
       "      <td>2.240000e-01</td>\n",
       "    </tr>\n",
       "    <tr>\n",
       "      <th>75%</th>\n",
       "      <td>4.020000e+02</td>\n",
       "      <td>1.678000e+03</td>\n",
       "      <td>2.150000e+01</td>\n",
       "      <td>7.400000e+00</td>\n",
       "      <td>5.380000e+01</td>\n",
       "      <td>2.000000e+01</td>\n",
       "      <td>3.600000</td>\n",
       "      <td>1.212000e+01</td>\n",
       "      <td>1.370000e+00</td>\n",
       "      <td>5.480000e-01</td>\n",
       "    </tr>\n",
       "    <tr>\n",
       "      <th>max</th>\n",
       "      <td>1.959980e+09</td>\n",
       "      <td>8.200555e+09</td>\n",
       "      <td>1.400000e+03</td>\n",
       "      <td>1.360000e+14</td>\n",
       "      <td>2.834000e+03</td>\n",
       "      <td>1.350000e+03</td>\n",
       "      <td>2020.000000</td>\n",
       "      <td>2.500000e+03</td>\n",
       "      <td>1.050000e+05</td>\n",
       "      <td>4.200000e+04</td>\n",
       "    </tr>\n",
       "  </tbody>\n",
       "</table>\n",
       "</div>"
      ],
      "text/plain": [
       "       energy-kcal_100g   energy_100g      fat_100g  saturated-fat_100g  \\\n",
       "count      1.043218e+06  1.106563e+06  1.104430e+06        1.073576e+06   \n",
       "mean       2.160168e+03  8.581562e+03  1.375179e+01        1.266794e+08   \n",
       "std        1.918952e+06  7.795702e+06  1.760439e+01        1.312570e+11   \n",
       "min        0.000000e+00  0.000000e+00  0.000000e+00        0.000000e+00   \n",
       "25%        1.080000e+02  4.480000e+02  8.000000e-01        1.000000e-01   \n",
       "50%        2.690000e+02  1.117000e+03  7.142857e+00        2.000000e+00   \n",
       "75%        4.020000e+02  1.678000e+03  2.150000e+01        7.400000e+00   \n",
       "max        1.959980e+09  8.200555e+09  1.400000e+03        1.360000e+14   \n",
       "\n",
       "       carbohydrates_100g   sugars_100g     fiber_100g  proteins_100g  \\\n",
       "count        1.104351e+06  1.097361e+06  441163.000000   1.106485e+06   \n",
       "mean         2.867567e+01  1.382134e+01       2.939507   8.589983e+00   \n",
       "std          2.867389e+01  2.003348e+01       6.128920   1.062895e+01   \n",
       "min          0.000000e+00 -1.000000e+00     -20.000000  -4.000000e-01   \n",
       "25%          3.600000e+00  7.000000e-01       0.000000   1.400000e+00   \n",
       "50%          1.600000e+01  3.900000e+00       1.500000   6.000000e+00   \n",
       "75%          5.380000e+01  2.000000e+01       3.600000   1.212000e+01   \n",
       "max          2.834000e+03  1.350000e+03    2020.000000   2.500000e+03   \n",
       "\n",
       "          salt_100g   sodium_100g  \n",
       "count  1.105391e+06  1.105387e+06  \n",
       "mean   1.897389e+00  7.590446e-01  \n",
       "std    1.423754e+02  5.695089e+01  \n",
       "min    0.000000e+00  0.000000e+00  \n",
       "25%    7.250000e-02  2.900000e-02  \n",
       "50%    5.600000e-01  2.240000e-01  \n",
       "75%    1.370000e+00  5.480000e-01  \n",
       "max    1.050000e+05  4.200000e+04  "
      ]
     },
     "execution_count": 18,
     "metadata": {},
     "output_type": "execute_result"
    }
   ],
   "source": [
    "df_macro.describe()"
   ]
  },
  {
   "cell_type": "markdown",
   "metadata": {},
   "source": [
    "##### Data Imputation\n"
   ]
  },
  {
   "cell_type": "code",
   "execution_count": 19,
   "metadata": {},
   "outputs": [
    {
     "name": "stdout",
     "output_type": "stream",
     "text": [
      "code , 0.0\n",
      "product_name , 0.0\n",
      "main_category_en , 42.11\n",
      "pnns_groups_1 , 0.16999999999999998\n",
      "pnns_groups_2 , 0.0\n",
      "nutriscore_score , 47.699999999999996\n",
      "nutriscore_grade , 47.699999999999996\n",
      "energy-kcal_100g , 5.779999999999999\n",
      "energy_100g , 0.06\n",
      "fat_100g , 0.25\n",
      "saturated-fat_100g , 3.04\n",
      "carbohydrates_100g , 0.26\n",
      "sugars_100g , 0.89\n",
      "fiber_100g , 60.160000000000004\n",
      "proteins_100g , 0.06999999999999999\n",
      "salt_100g , 0.16999999999999998\n",
      "sodium_100g , 0.16999999999999998\n"
     ]
    }
   ],
   "source": [
    "obj = df2.isna().mean().round(4) * 100\n",
    "for key,value in obj.iteritems():\n",
    "    print(key,\",\",value)"
   ]
  },
  {
   "cell_type": "markdown",
   "metadata": {},
   "source": [
    "\n",
    "- energy-kcal_100g: \n",
    "- energy_100g:\n",
    "- fat_100g\n",
    "- saturated-fat_100g\n",
    "- carbohydrates_100g\n",
    "- sugars_100g\n",
    "- fiber_100g : Fibres do not add calories and are not necessarily indicated on the products therefore if they are not indicated they can be considered as 0\n",
    "- proteins_100g\n",
    "- salt_100g\n",
    "- sodium_100g"
   ]
  },
  {
   "cell_type": "code",
   "execution_count": 20,
   "metadata": {},
   "outputs": [],
   "source": [
    "df2[\"fiber_100g\"] = df2[\"fiber_100g\"].fillna(0)"
   ]
  },
  {
   "cell_type": "markdown",
   "metadata": {},
   "source": [
    "### 3.2 Outliers\n",
    "##### Interpretation\n",
    "\n",
    "Boxplot of different macro-nutrients"
   ]
  },
  {
   "cell_type": "code",
   "execution_count": 21,
   "metadata": {
    "scrolled": true
   },
   "outputs": [
    {
     "data": {
      "image/png": "[encoded data removed]",
      "text/plain": [
       "<Figure size 576x360 with 1 Axes>"
      ]
     },
     "metadata": {
      "needs_background": "light"
     },
     "output_type": "display_data"
    },
    {
     "data": {
      "image/png": "[encoded data removed]",
      "text/plain": [
       "<Figure size 576x360 with 1 Axes>"
      ]
     },
     "metadata": {
      "needs_background": "light"
     },
     "output_type": "display_data"
    },
    {
     "data": {
      "image/png": "[encoded data removed]",
      "text/plain": [
       "<Figure size 576x360 with 1 Axes>"
      ]
     },
     "metadata": {
      "needs_background": "light"
     },
     "output_type": "display_data"
    },
    {
     "data": {
      "image/png": "[encoded data removed]",
      "text/plain": [
       "<Figure size 576x360 with 1 Axes>"
      ]
     },
     "metadata": {
      "needs_background": "light"
     },
     "output_type": "display_data"
    },
    {
     "data": {
      "image/png": "[encoded data removed]",
      "text/plain": [
       "<Figure size 576x360 with 1 Axes>"
      ]
     },
     "metadata": {
      "needs_background": "light"
     },
     "output_type": "display_data"
    },
    {
     "data": {
      "image/png": "[encoded data removed]",
      "text/plain": [
       "<Figure size 576x360 with 1 Axes>"
      ]
     },
     "metadata": {
      "needs_background": "light"
     },
     "output_type": "display_data"
    },
    {
     "data": {
      "image/png": "[encoded data removed]",
      "text/plain": [
       "<Figure size 576x360 with 1 Axes>"
      ]
     },
     "metadata": {
      "needs_background": "light"
     },
     "output_type": "display_data"
    },
    {
     "data": {
      "image/png": "[encoded data removed]",
      "text/plain": [
       "<Figure size 576x360 with 1 Axes>"
      ]
     },
     "metadata": {
      "needs_background": "light"
     },
     "output_type": "display_data"
    },
    {
     "data": {
      "image/png": "[encoded data removed]",
      "text/plain": [
       "<Figure size 576x360 with 1 Axes>"
      ]
     },
     "metadata": {
      "needs_background": "light"
     },
     "output_type": "display_data"
    },
    {
     "data": {
      "image/png": "[encoded data removed]",
      "text/plain": [
       "<Figure size 576x360 with 1 Axes>"
      ]
     },
     "metadata": {
      "needs_background": "light"
     },
     "output_type": "display_data"
    }
   ],
   "source": [
    "for col in df_macro.columns:\n",
    "    fig = plt.figure(1, figsize=(8,5))\n",
    "    sns.boxplot(data = df_macro,  x = col)\n",
    "    plt.xticks(rotation=45, ha = \"right\")\n",
    "    plt.show()\n",
    "#df_macro.boxplot(column=['fat_100g'])\n"
   ]
  },
  {
   "cell_type": "markdown",
   "metadata": {},
   "source": [
    "It is observed that there are many outliers in macro-nutrients when their proportion should be between 0 and 100g. \n",
    "\n",
    "The IQR score will now be calculated to determine if this method can be applied for outlier removal."
   ]
  },
  {
   "cell_type": "code",
   "execution_count": 22,
   "metadata": {},
   "outputs": [
    {
     "data": {
      "text/html": [
       "<div>\n",
       "<style scoped>\n",
       "    .dataframe tbody tr th:only-of-type {\n",
       "        vertical-align: middle;\n",
       "    }\n",
       "\n",
       "    .dataframe tbody tr th {\n",
       "        vertical-align: top;\n",
       "    }\n",
       "\n",
       "    .dataframe thead th {\n",
       "        text-align: right;\n",
       "    }\n",
       "</style>\n",
       "<table border=\"1\" class=\"dataframe\">\n",
       "  <thead>\n",
       "    <tr style=\"text-align: right;\">\n",
       "      <th></th>\n",
       "      <th>IQR</th>\n",
       "      <th>IQR_lower</th>\n",
       "      <th>IQR_upper</th>\n",
       "    </tr>\n",
       "  </thead>\n",
       "  <tbody>\n",
       "    <tr>\n",
       "      <th>energy-kcal_100g</th>\n",
       "      <td>294.0000</td>\n",
       "      <td>-333.00000</td>\n",
       "      <td>843.00000</td>\n",
       "    </tr>\n",
       "    <tr>\n",
       "      <th>energy_100g</th>\n",
       "      <td>1230.0000</td>\n",
       "      <td>-1397.00000</td>\n",
       "      <td>3523.00000</td>\n",
       "    </tr>\n",
       "    <tr>\n",
       "      <th>fat_100g</th>\n",
       "      <td>20.7000</td>\n",
       "      <td>-30.25000</td>\n",
       "      <td>52.55000</td>\n",
       "    </tr>\n",
       "    <tr>\n",
       "      <th>saturated-fat_100g</th>\n",
       "      <td>7.3000</td>\n",
       "      <td>-10.85000</td>\n",
       "      <td>18.35000</td>\n",
       "    </tr>\n",
       "    <tr>\n",
       "      <th>carbohydrates_100g</th>\n",
       "      <td>50.2000</td>\n",
       "      <td>-71.70000</td>\n",
       "      <td>129.10000</td>\n",
       "    </tr>\n",
       "    <tr>\n",
       "      <th>sugars_100g</th>\n",
       "      <td>19.3000</td>\n",
       "      <td>-28.25000</td>\n",
       "      <td>48.95000</td>\n",
       "    </tr>\n",
       "    <tr>\n",
       "      <th>fiber_100g</th>\n",
       "      <td>3.6000</td>\n",
       "      <td>-5.40000</td>\n",
       "      <td>9.00000</td>\n",
       "    </tr>\n",
       "    <tr>\n",
       "      <th>proteins_100g</th>\n",
       "      <td>10.7200</td>\n",
       "      <td>-14.68000</td>\n",
       "      <td>28.20000</td>\n",
       "    </tr>\n",
       "    <tr>\n",
       "      <th>salt_100g</th>\n",
       "      <td>1.2975</td>\n",
       "      <td>-1.87375</td>\n",
       "      <td>3.31625</td>\n",
       "    </tr>\n",
       "    <tr>\n",
       "      <th>sodium_100g</th>\n",
       "      <td>0.5190</td>\n",
       "      <td>-0.74950</td>\n",
       "      <td>1.32650</td>\n",
       "    </tr>\n",
       "  </tbody>\n",
       "</table>\n",
       "</div>"
      ],
      "text/plain": [
       "                          IQR   IQR_lower   IQR_upper\n",
       "energy-kcal_100g     294.0000  -333.00000   843.00000\n",
       "energy_100g         1230.0000 -1397.00000  3523.00000\n",
       "fat_100g              20.7000   -30.25000    52.55000\n",
       "saturated-fat_100g     7.3000   -10.85000    18.35000\n",
       "carbohydrates_100g    50.2000   -71.70000   129.10000\n",
       "sugars_100g           19.3000   -28.25000    48.95000\n",
       "fiber_100g             3.6000    -5.40000     9.00000\n",
       "proteins_100g         10.7200   -14.68000    28.20000\n",
       "salt_100g              1.2975    -1.87375     3.31625\n",
       "sodium_100g            0.5190    -0.74950     1.32650"
      ]
     },
     "execution_count": 22,
     "metadata": {},
     "output_type": "execute_result"
    }
   ],
   "source": [
    "Q1 = df_macro.quantile(0.25)\n",
    "Q3 = df_macro.quantile(0.75)\n",
    "IQR = Q3 - Q1\n",
    "IQR_lower = Q1 - (1.5 * IQR)\n",
    "IQR_upper = Q3 + (1.5 * IQR)\n",
    "\n",
    "dict = {'IQR': IQR, 'IQR_lower': IQR_lower, 'IQR_upper': IQR_upper}      \n",
    "df_IQR = pd.DataFrame(dict)\n",
    "df_IQR"
   ]
  },
  {
   "cell_type": "markdown",
   "metadata": {},
   "source": [
    "The method of the IQR allows us to visualize the limits from which it is advisable to remove our outliers out in the case of our macro-nutrients we know the logical limits [0:100] that we will therefore apply with the following criteria\n",
    "\n",
    "Deletion of products including :  \n",
    "\n",
    "- A Nutrient is superior to 100g\n",
    "- Sum of nutrients of a product above 100g\n",
    "- Saturated fat is superior to fat.\n",
    "- Sugars are superior to carbohydrates\n",
    "- Calories are higher than 3700 kJ."
   ]
  },
  {
   "cell_type": "code",
   "execution_count": 23,
   "metadata": {},
   "outputs": [
    {
     "data": {
      "text/plain": [
       "fat_100g               29\n",
       "saturated-fat_100g     17\n",
       "carbohydrates_100g     94\n",
       "sugars_100g            36\n",
       "fiber_100g             17\n",
       "proteins_100g          20\n",
       "salt_100g             475\n",
       "sodium_100g           327\n",
       "dtype: int64"
      ]
     },
     "execution_count": 23,
     "metadata": {},
     "output_type": "execute_result"
    }
   ],
   "source": [
    "(df2.drop(columns=[\"code\", \"product_name\",\"main_category_en\",\"pnns_groups_1\", \"pnns_groups_2\", \"nutriscore_score\", \"nutriscore_grade\", 'energy_100g', 'energy-kcal_100g'])>100).sum()"
   ]
  },
  {
   "cell_type": "code",
   "execution_count": 24,
   "metadata": {},
   "outputs": [
    {
     "name": "stdout",
     "output_type": "stream",
     "text": [
      "The number of products with more than 100g of macro nutrients is : 44156\n",
      "The number of products with more saturated fat than fat : 726\n",
      "The number of products with more sugars than carbohydrates : 830\n"
     ]
    }
   ],
   "source": [
    "for col in df2.drop(columns=[\"code\", \"product_name\",\"main_category_en\",\"pnns_groups_1\", \"pnns_groups_2\", \"nutriscore_score\", \"nutriscore_grade\", 'energy_100g', 'energy-kcal_100g']).columns:\n",
    "    df2.drop(df2[df2[col] > 100].index, inplace=True)\n",
    "    \n",
    "for col in df2.drop(columns=[\"code\", \"product_name\",\"main_category_en\",\"pnns_groups_1\", \"pnns_groups_2\", \"nutriscore_score\", \"nutriscore_grade\", 'energy_100g', 'energy-kcal_100g']).columns:\n",
    "    df2.drop(df2[df2[col] < 0].index, inplace=True)\n",
    "\n",
    "nb = sum(df2[['fat_100g', 'carbohydrates_100g', 'proteins_100g', 'fiber_100g', 'salt_100g']].sum(axis=1)>100)\n",
    "print(\"The number of products with more than 100g of macro nutrients is : {}\".format(nb))\n",
    "df2  = df2[df2[['fat_100g', 'carbohydrates_100g', 'proteins_100g', 'fiber_100g', 'salt_100g']].sum(axis=1)<100]\n",
    "\n",
    "cond_fat = df2[\"fat_100g\"]< df2[\"saturated-fat_100g\"]\n",
    "print(\"The number of products with more saturated fat than fat : {}\".format(cond_fat.sum()))\n",
    "df2 = df2[~cond_fat]\n",
    "\n",
    "cond_sugars = df2[\"sugars_100g\"]> df2[\"carbohydrates_100g\"]\n",
    "print(\"The number of products with more sugars than carbohydrates : {}\".format(cond_sugars.sum()))\n",
    "df2 = df2[~cond_sugars]\n"
   ]
  },
  {
   "cell_type": "code",
   "execution_count": 25,
   "metadata": {},
   "outputs": [
    {
     "name": "stdout",
     "output_type": "stream",
     "text": [
      "The number of products with energy higher than 3700 kJ is : 9579\n"
     ]
    }
   ],
   "source": [
    "max_energy = 3700\n",
    "print(\"The number of products with energy higher than 3700 kJ is : {}\".format(sum(df['energy_100g']>max_energy)))"
   ]
  },
  {
   "cell_type": "code",
   "execution_count": 26,
   "metadata": {},
   "outputs": [],
   "source": [
    "cond_energy = df2[\"energy_100g\"]> max_energy\n",
    "df2 = df2[~cond_energy]"
   ]
  },
  {
   "cell_type": "code",
   "execution_count": 27,
   "metadata": {
    "scrolled": true
   },
   "outputs": [
    {
     "data": {
      "text/html": [
       "<div>\n",
       "<style scoped>\n",
       "    .dataframe tbody tr th:only-of-type {\n",
       "        vertical-align: middle;\n",
       "    }\n",
       "\n",
       "    .dataframe tbody tr th {\n",
       "        vertical-align: top;\n",
       "    }\n",
       "\n",
       "    .dataframe thead th {\n",
       "        text-align: right;\n",
       "    }\n",
       "</style>\n",
       "<table border=\"1\" class=\"dataframe\">\n",
       "  <thead>\n",
       "    <tr style=\"text-align: right;\">\n",
       "      <th></th>\n",
       "      <th>sodium_100g</th>\n",
       "      <th>salt_100g</th>\n",
       "    </tr>\n",
       "  </thead>\n",
       "  <tbody>\n",
       "    <tr>\n",
       "      <th>sodium_100g</th>\n",
       "      <td>1.000000</td>\n",
       "      <td>0.999476</td>\n",
       "    </tr>\n",
       "    <tr>\n",
       "      <th>salt_100g</th>\n",
       "      <td>0.999476</td>\n",
       "      <td>1.000000</td>\n",
       "    </tr>\n",
       "  </tbody>\n",
       "</table>\n",
       "</div>"
      ],
      "text/plain": [
       "             sodium_100g  salt_100g\n",
       "sodium_100g     1.000000   0.999476\n",
       "salt_100g       0.999476   1.000000"
      ]
     },
     "execution_count": 27,
     "metadata": {},
     "output_type": "execute_result"
    }
   ],
   "source": [
    "df2[[\"sodium_100g\", \"salt_100g\"]].corr()"
   ]
  },
  {
   "cell_type": "code",
   "execution_count": 28,
   "metadata": {},
   "outputs": [],
   "source": [
    "df2.drop(columns=\"sodium_100g\", inplace=True)\n",
    "df2.drop(columns=\"energy-kcal_100g\", inplace=True)"
   ]
  },
  {
   "cell_type": "markdown",
   "metadata": {},
   "source": [
    "### 3.2 Unnecessary & Inconsistent Data\n",
    "\n",
    "##### Capitalization / Majuscules"
   ]
  },
  {
   "cell_type": "code",
   "execution_count": 29,
   "metadata": {},
   "outputs": [],
   "source": [
    "df2['product_name'] = df2['product_name'].str.lower()"
   ]
  },
  {
   "cell_type": "markdown",
   "metadata": {},
   "source": [
    "##### Doublons"
   ]
  },
  {
   "cell_type": "code",
   "execution_count": 30,
   "metadata": {},
   "outputs": [
    {
     "data": {
      "text/plain": [
       "code           product_name                        \n",
       "3261830123377  lot de 3 pâté de foie                   2\n",
       "2157140007258  chorizo                                 1\n",
       "2157390006056  sélection proscuito                     1\n",
       "2157390005905  prosciutto                              1\n",
       "2157390005806  proscuitto                              1\n",
       "2157390005752  proscuitto                              1\n",
       "2157390004908  prosciutto                              1\n",
       "2157390004854  prosciutto                              1\n",
       "2157390004700  prosciutto jambon                       1\n",
       "2157390004557  prosciutto                              1\n",
       "2157354004807  le broyard, de la région                1\n",
       "2157225007555  le gruyere vieux du pays de fribourg    1\n",
       "2157225006404  le gruyère aop vieux                    1\n",
       "2157225005056  vieux du pays de fribourg               1\n",
       "2157219004300  fromage du jura                         1\n",
       "2157211003004  le jura                                 1\n",
       "2157162011301  crevettes cuites                        1\n",
       "2157162008653  crevettes cuites                        1\n",
       "2157162008608  crevettes cuites                        1\n",
       "2157162008455  crevettes cuites                        1\n",
       "Name: product_name, dtype: int64"
      ]
     },
     "execution_count": 30,
     "metadata": {},
     "output_type": "execute_result"
    }
   ],
   "source": [
    "key = [\"code\", \"product_name\"]\n",
    "\n",
    "df2.fillna(-999).groupby(key)['product_name'].count().sort_values(ascending=False).head(20)"
   ]
  },
  {
   "cell_type": "code",
   "execution_count": 31,
   "metadata": {},
   "outputs": [],
   "source": [
    "df2 = df2.drop_duplicates(subset=key)"
   ]
  },
  {
   "cell_type": "markdown",
   "metadata": {},
   "source": [
    "\n",
    "## 4. Synthèse\n"
   ]
  },
  {
   "cell_type": "code",
   "execution_count": 32,
   "metadata": {},
   "outputs": [
    {
     "name": "stdout",
     "output_type": "stream",
     "text": [
      "The proportion of data kept is : 72.41 % or 1045457 products\n"
     ]
    }
   ],
   "source": [
    "print(\"The proportion of data kept is : {:.2f} % or {} products\".format(len(df2)/len(df)*100, len(df2)))"
   ]
  },
  {
   "cell_type": "code",
   "execution_count": 33,
   "metadata": {
    "scrolled": true
   },
   "outputs": [
    {
     "name": "stdout",
     "output_type": "stream",
     "text": [
      "51.32 % of the data have a Nutrition grade\n"
     ]
    }
   ],
   "source": [
    "print(\"{:.2f} % of the data have a Nutrition grade\".format(100*(1- df2[\"nutriscore_grade\"].isna().sum()/len(df2))))"
   ]
  },
  {
   "cell_type": "markdown",
   "metadata": {},
   "source": [
    "It does not seem feasible to perform a direct calculation on the present data to obtain the Nutri-Score of a product for the following reasons:\n",
    "\n",
    "Too many products are not categorized, which makes it impossible to classify each product as a food or drink The proportion of fruits and vegetables is not globally known The creation of a predictive model seems feasible because all macro-nutrients are available and predicting the associated letter without using the nutrition score makes it possible to get rid of the problem of missing categories.\n",
    "\n",
    "Moreover, if the method of calculating the Nutri-Score is changed, even if only slightly, it will only be necessary to restart the training of the model to obtain the correct prediction.\n"
   ]
  },
  {
   "cell_type": "code",
   "execution_count": 34,
   "metadata": {},
   "outputs": [],
   "source": [
    "df2.to_csv(\"openfoodfacts_products_cleaned.csv\",index=False)"
   ]
  }
 ],
 "metadata": {
  "kernelspec": {
   "display_name": "Python 3",
   "language": "python",
   "name": "python3"
  },
  "language_info": {
   "codemirror_mode": {
    "name": "ipython",
    "version": 3
   },
   "file_extension": ".py",
   "mimetype": "text/x-python",
   "name": "python",
   "nbconvert_exporter": "python",
   "pygments_lexer": "ipython3",
   "version": "3.7.6"
  }
 },
 "nbformat": 4,
 "nbformat_minor": 4
}
